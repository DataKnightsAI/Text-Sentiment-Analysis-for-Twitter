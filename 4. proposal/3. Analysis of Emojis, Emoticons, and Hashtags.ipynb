{
 "cells": [
  {
   "cell_type": "markdown",
   "metadata": {},
   "source": [
    "# 3. Analysis of Emojis, Emoticons, and Hashtags\n",
    "<br> This notebook covers the frequency distributions of emojis, emoticons, and hashtags across positive, neutral, and negative sentiments. The intention is to analyze and determine if there is are patterns amongst the use of emojis, emoticons, and hashtags that could possibly further help determine the sentiment of the tweet."
   ]
  },
  {
   "cell_type": "markdown",
   "metadata": {},
   "source": [
    "## Import Libraries and Read the Cleaned Data"
   ]
  },
  {
   "cell_type": "code",
   "execution_count": 1,
   "metadata": {},
   "outputs": [],
   "source": [
    "import pandas as pd\n",
    "from collections import Counter\n",
    "import matplotlib.pyplot as plt\n",
    "import warnings\n",
    "warnings.filterwarnings(\"ignore\")"
   ]
  },
  {
   "cell_type": "markdown",
   "metadata": {},
   "source": [
    "Read 'Tweets_cleaned.csv'"
   ]
  },
  {
   "cell_type": "code",
   "execution_count": 2,
   "metadata": {},
   "outputs": [],
   "source": [
    "df_tweets_cleaned = pd.read_csv('..\\data\\Tweets_cleaned.csv', encoding='utf-8')"
   ]
  },
  {
   "cell_type": "markdown",
   "metadata": {},
   "source": [
    "Separate the dataframe into positive, neutral, and negative classified sentiment."
   ]
  },
  {
   "cell_type": "code",
   "execution_count": 3,
   "metadata": {},
   "outputs": [],
   "source": [
    "df_tweets_positive = df_tweets_cleaned.loc[df_tweets_cleaned['airline_sentiment'] == 'positive']\n",
    "df_tweets_neutral = df_tweets_cleaned.loc[df_tweets_cleaned['airline_sentiment'] == 'neutral']\n",
    "df_tweets_negative = df_tweets_cleaned.loc[df_tweets_cleaned['airline_sentiment'] == 'negative']"
   ]
  },
  {
   "cell_type": "markdown",
   "metadata": {},
   "source": [
    "## Distribution of emojis grouped by positive, neutral, and negative sentiments"
   ]
  },
  {
   "cell_type": "markdown",
   "metadata": {},
   "source": [
    "### Positive tweets with Emojis"
   ]
  },
  {
   "cell_type": "code",
   "execution_count": 4,
   "metadata": {},
   "outputs": [],
   "source": [
    "#create a list of tokens from the tweets\n",
    "list_of_emojis_positive = []\n",
    "df_tweets_positive_emojis = df_tweets_positive.loc[df_tweets_positive['emojis_flag'] == True]"
   ]
  },
  {
   "cell_type": "markdown",
   "metadata": {},
   "source": [
    "Number of tweets of positive sentiment that contained emojis:"
   ]
  },
  {
   "cell_type": "code",
   "execution_count": 5,
   "metadata": {},
   "outputs": [
    {
     "data": {
      "text/plain": [
       "189"
      ]
     },
     "execution_count": 5,
     "metadata": {},
     "output_type": "execute_result"
    }
   ],
   "source": [
    "len(df_tweets_positive_emojis)"
   ]
  },
  {
   "cell_type": "code",
   "execution_count": 6,
   "metadata": {},
   "outputs": [],
   "source": [
    "#create a list\n",
    "positive_emojis = []\n",
    "\n",
    "for i, row in df_tweets_positive_emojis.iterrows():\n",
    "    tweet_emojis = df_tweets_positive_emojis.at[i, 'emojis']\n",
    "    #print(type(tweet_emojis))\n",
    "    \n",
    "    tweet_emojis_list = list(tweet_emojis.split(\",\")) \n",
    "    \n",
    "    for emoji in tweet_emojis_list:\n",
    "        #print('emoji: ' + emoji)\n",
    "        \n",
    "        #strip brackets, quote, and spaces\n",
    "        emoji = emoji.strip('[]')\n",
    "        emoji = emoji.replace(\"\\'\", \"\")\n",
    "        emoji = emoji.strip()\n",
    "        \n",
    "        #print('emoji_strip: ' + emoji)\n",
    "        positive_emojis.append(emoji)"
   ]
  },
  {
   "cell_type": "markdown",
   "metadata": {},
   "source": [
    "Number of emojis used in positive tweets:"
   ]
  },
  {
   "cell_type": "code",
   "execution_count": 7,
   "metadata": {
    "scrolled": true
   },
   "outputs": [
    {
     "data": {
      "text/plain": [
       "457"
      ]
     },
     "execution_count": 7,
     "metadata": {},
     "output_type": "execute_result"
    }
   ],
   "source": [
    "len(positive_emojis)"
   ]
  },
  {
   "cell_type": "code",
   "execution_count": 8,
   "metadata": {},
   "outputs": [
    {
     "data": {
      "text/plain": [
       "[('🙏', 118),\n",
       " ('👍', 36),\n",
       " ('✈', 36),\n",
       " ('❤', 22),\n",
       " ('😊', 22),\n",
       " ('👏', 21),\n",
       " ('✌', 13),\n",
       " ('😉', 12),\n",
       " ('👌', 12),\n",
       " ('💙', 12),\n",
       " ('😢', 11),\n",
       " ('😃', 10),\n",
       " ('☺', 8),\n",
       " ('🎉', 8),\n",
       " ('😍', 7),\n",
       " ('💕', 6),\n",
       " ('😂', 6),\n",
       " ('😀', 5),\n",
       " ('😁', 5),\n",
       " ('😭', 5)]"
      ]
     },
     "execution_count": 8,
     "metadata": {},
     "output_type": "execute_result"
    }
   ],
   "source": [
    "positive_emoji_counter = Counter(positive_emojis)\n",
    "positive_emoji_counter.most_common(20)"
   ]
  },
  {
   "cell_type": "code",
   "execution_count": 9,
   "metadata": {},
   "outputs": [
    {
     "data": {
      "text/plain": [
       "[Text(0, 0, '🙏'),\n",
       " Text(0, 0, '👍'),\n",
       " Text(0, 0, '✈'),\n",
       " Text(0, 0, '❤'),\n",
       " Text(0, 0, '😊'),\n",
       " Text(0, 0, '👏'),\n",
       " Text(0, 0, '✌'),\n",
       " Text(0, 0, '😉'),\n",
       " Text(0, 0, '👌'),\n",
       " Text(0, 0, '💙'),\n",
       " Text(0, 0, '😢'),\n",
       " Text(0, 0, '😃'),\n",
       " Text(0, 0, '☺'),\n",
       " Text(0, 0, '🎉'),\n",
       " Text(0, 0, '😍'),\n",
       " Text(0, 0, '💕'),\n",
       " Text(0, 0, '😂'),\n",
       " Text(0, 0, '😀'),\n",
       " Text(0, 0, '😁'),\n",
       " Text(0, 0, '😭')]"
      ]
     },
     "execution_count": 9,
     "metadata": {},
     "output_type": "execute_result"
    },
    {
     "data": {
      "image/png": "[encoded data removed]",
      "text/plain": [
       "<Figure size 1440x504 with 1 Axes>"
      ]
     },
     "metadata": {
      "needs_background": "light"
     },
     "output_type": "display_data"
    }
   ],
   "source": [
    "# convert list of tuples into data frame\n",
    "freq_df_positive_emoji = pd.DataFrame.from_records(positive_emoji_counter.most_common(20),\n",
    "                                    columns=['emoji', 'count'])\n",
    "\n",
    "# create bar plot\n",
    "distribution_bar_positive_emojis = freq_df_positive_emoji.plot(\n",
    "    kind='bar', \n",
    "    x='emoji',\n",
    "    color='green',\n",
    "    figsize=(20,7)\n",
    ")\n",
    "distribution_bar_positive_emojis.set_title(\n",
    "    'Frequency distribution of Emojis in Positive Tweets',\n",
    "    fontsize=25\n",
    ")\n",
    "distribution_bar_positive_emojis.set_xticklabels(\n",
    "    freq_df_positive_emoji.emoji.tolist(), \n",
    "    rotation = 0, \n",
    "    fontsize = 17, \n",
    "    #fontproperties=prop\n",
    "    fontname='Segoe UI Emoji'\n",
    ")\n"
   ]
  },
  {
   "cell_type": "markdown",
   "metadata": {},
   "source": [
    "### Analysis of Frequency distribution of Emojis in Positive Tweets\n",
    "Interestingly, the `Prayer Hands` emoji topped the frequency distribution. This emoji is commonly used as a way of saying \"please\" or \"thank you\", and therefore it makes sense it should be identified as an emoji with positive sentiment. All other emojis were not as commonly used. Another interesting emoji related to positive sentiment was the `Airplane` emoji; upon manual examination the text of the tweets, users sometimes tweeted this emoji as a way of expressing excitement on their trip. Surprisingly at first glance, the `Happy Face` emoji and its several variations were not used quite as often; in retrospect, this made sense simply because there is a large variety of `Happy Face` emojis available for users to use. It may be worth manually clustering the `Happy Face` emojis, as there are a large number of such categories in the lower frequency distributions."
   ]
  },
  {
   "cell_type": "markdown",
   "metadata": {},
   "source": [
    "### Neutral tweets with Emojis"
   ]
  },
  {
   "cell_type": "code",
   "execution_count": 10,
   "metadata": {},
   "outputs": [],
   "source": [
    "#create a list of tokens from the tweets\n",
    "list_of_emojis_neutral = []\n",
    "df_tweets_neutral_emojis = df_tweets_neutral.loc[df_tweets_neutral['emojis_flag'] == True]"
   ]
  },
  {
   "cell_type": "markdown",
   "metadata": {},
   "source": [
    "Number of tweets of neutral sentiment that contained emojis:"
   ]
  },
  {
   "cell_type": "code",
   "execution_count": 11,
   "metadata": {},
   "outputs": [
    {
     "data": {
      "text/plain": [
       "127"
      ]
     },
     "execution_count": 11,
     "metadata": {},
     "output_type": "execute_result"
    }
   ],
   "source": [
    "len(df_tweets_neutral_emojis)"
   ]
  },
  {
   "cell_type": "code",
   "execution_count": 12,
   "metadata": {},
   "outputs": [],
   "source": [
    "#create a list\n",
    "neutral_emojis = []\n",
    "\n",
    "for i, row in df_tweets_neutral_emojis.iterrows():\n",
    "    tweet_emojis = df_tweets_neutral_emojis.at[i, 'emojis']\n",
    "    #print(type(tweet_emojis))\n",
    "    \n",
    "    tweet_emojis_list = list(tweet_emojis.split(\",\")) \n",
    "    \n",
    "    for emoji in tweet_emojis_list:\n",
    "        #print('emoji: ' + emoji)\n",
    "        \n",
    "        #strip brackets, quote, and spaces\n",
    "        emoji = emoji.strip('[]')\n",
    "        emoji = emoji.replace(\"\\'\", \"\")\n",
    "        emoji = emoji.strip()\n",
    "\n",
    "        #print('emoji_strip: ' + emoji)\n",
    "        neutral_emojis.append(emoji)"
   ]
  },
  {
   "cell_type": "markdown",
   "metadata": {},
   "source": [
    "Number of emojis used in neutral tweets:"
   ]
  },
  {
   "cell_type": "code",
   "execution_count": 13,
   "metadata": {
    "scrolled": true
   },
   "outputs": [
    {
     "data": {
      "text/plain": [
       "239"
      ]
     },
     "execution_count": 13,
     "metadata": {},
     "output_type": "execute_result"
    }
   ],
   "source": [
    "len(neutral_emojis)"
   ]
  },
  {
   "cell_type": "code",
   "execution_count": 14,
   "metadata": {},
   "outputs": [
    {
     "data": {
      "text/plain": [
       "[('😂', 39),\n",
       " ('😭', 27),\n",
       " ('😁', 11),\n",
       " ('😢', 10),\n",
       " ('✈', 9),\n",
       " ('😩', 9),\n",
       " ('💗', 7),\n",
       " ('🙏', 7),\n",
       " ('💔', 7),\n",
       " ('😊', 6),\n",
       " ('🎀', 6),\n",
       " ('😉', 6),\n",
       " ('😄', 4),\n",
       " ('❄', 4),\n",
       " ('🚶', 4),\n",
       " ('❤', 4),\n",
       " ('👍', 3),\n",
       " ('😍', 3),\n",
       " ('😃', 3),\n",
       " ('🌴', 3)]"
      ]
     },
     "execution_count": 14,
     "metadata": {},
     "output_type": "execute_result"
    }
   ],
   "source": [
    "neutral_emoji_counter = Counter(neutral_emojis)\n",
    "neutral_emoji_counter.most_common(20)"
   ]
  },
  {
   "cell_type": "code",
   "execution_count": 15,
   "metadata": {},
   "outputs": [
    {
     "data": {
      "text/plain": [
       "[Text(0, 0, '😂'),\n",
       " Text(0, 0, '😭'),\n",
       " Text(0, 0, '😁'),\n",
       " Text(0, 0, '😢'),\n",
       " Text(0, 0, '✈'),\n",
       " Text(0, 0, '😩'),\n",
       " Text(0, 0, '💗'),\n",
       " Text(0, 0, '🙏'),\n",
       " Text(0, 0, '💔'),\n",
       " Text(0, 0, '😊'),\n",
       " Text(0, 0, '🎀'),\n",
       " Text(0, 0, '😉'),\n",
       " Text(0, 0, '😄'),\n",
       " Text(0, 0, '❄'),\n",
       " Text(0, 0, '🚶'),\n",
       " Text(0, 0, '❤'),\n",
       " Text(0, 0, '👍'),\n",
       " Text(0, 0, '😍'),\n",
       " Text(0, 0, '😃'),\n",
       " Text(0, 0, '🌴')]"
      ]
     },
     "execution_count": 15,
     "metadata": {},
     "output_type": "execute_result"
    },
    {
     "data": {
      "image/png": "[encoded data removed]",
      "text/plain": [
       "<Figure size 1440x504 with 1 Axes>"
      ]
     },
     "metadata": {
      "needs_background": "light"
     },
     "output_type": "display_data"
    }
   ],
   "source": [
    "# convert list of tuples into data frame\n",
    "freq_df_neutral_emoji = pd.DataFrame.from_records(neutral_emoji_counter.most_common(20),\n",
    "                                    columns=['emoji', 'count'])\n",
    "\n",
    "# create bar plot\n",
    "distribution_bar_neutral_emojis = freq_df_neutral_emoji.plot(\n",
    "    kind='bar', \n",
    "    x='emoji',\n",
    "    color='orange',\n",
    "    figsize=(20,7)\n",
    ")\n",
    "distribution_bar_neutral_emojis.set_title(\n",
    "    'Frequency distribution of Emojis in Neutral Tweets',\n",
    "    fontsize=25\n",
    ")\n",
    "distribution_bar_neutral_emojis.set_xticklabels(\n",
    "    freq_df_neutral_emoji.emoji.tolist(), \n",
    "    rotation = 0, \n",
    "    fontsize = 17, \n",
    "    #fontproperties=prop\n",
    "    fontname='Segoe UI Emoji'\n",
    ")"
   ]
  },
  {
   "cell_type": "markdown",
   "metadata": {},
   "source": [
    "### Analysis of Frequency distribution of Emojis in Neutral Tweets\n",
    "There is much overlap of emojis used in positive and neutral tweets. For example, several of the various `Happy Face` emojis are used in both positive ane neutral tweets. On the flip side, there are only two emojis which overlap in neutral and negative sentiments. Overall,the number of emojis used in neutral tweets were far lower than positive tweets, even if there were overlaps in the emoji usage."
   ]
  },
  {
   "cell_type": "markdown",
   "metadata": {},
   "source": [
    "### Negative tweets with Emojis"
   ]
  },
  {
   "cell_type": "code",
   "execution_count": 16,
   "metadata": {},
   "outputs": [],
   "source": [
    "#create a list of tokens from the tweets\n",
    "list_of_emojis_negative = []\n",
    "df_tweets_negative_emojis = df_tweets_negative.loc[df_tweets_negative['emojis_flag'] == True]"
   ]
  },
  {
   "cell_type": "markdown",
   "metadata": {},
   "source": [
    "Number of tweets of negative sentiment that contained emojis:"
   ]
  },
  {
   "cell_type": "code",
   "execution_count": 17,
   "metadata": {},
   "outputs": [
    {
     "data": {
      "text/plain": [
       "173"
      ]
     },
     "execution_count": 17,
     "metadata": {},
     "output_type": "execute_result"
    }
   ],
   "source": [
    "len(df_tweets_negative_emojis)"
   ]
  },
  {
   "cell_type": "code",
   "execution_count": 18,
   "metadata": {},
   "outputs": [],
   "source": [
    "#create a list\n",
    "negative_emojis = []\n",
    "\n",
    "for i, row in df_tweets_negative_emojis.iterrows():\n",
    "    tweet_emojis = df_tweets_negative_emojis.at[i, 'emojis']\n",
    "    #print(type(tweet_emojis))\n",
    "    \n",
    "    tweet_emojis_list = list(tweet_emojis.split(\",\")) \n",
    "    \n",
    "    for emoji in tweet_emojis_list:\n",
    "        #print('emoji: ' + emoji)\n",
    "        \n",
    "        #strip brackets, quote, and spaces\n",
    "        emoji = emoji.strip('[]')\n",
    "        emoji = emoji.replace(\"\\'\", \"\")\n",
    "        emoji = emoji.strip()\n",
    "        \n",
    "        #print('emoji_strip: ' + emoji)\n",
    "        negative_emojis.append(emoji)"
   ]
  },
  {
   "cell_type": "markdown",
   "metadata": {},
   "source": [
    "Number of emojis used in negative tweets:"
   ]
  },
  {
   "cell_type": "code",
   "execution_count": 19,
   "metadata": {
    "scrolled": true
   },
   "outputs": [
    {
     "data": {
      "text/plain": [
       "280"
      ]
     },
     "execution_count": 19,
     "metadata": {},
     "output_type": "execute_result"
    }
   ],
   "source": [
    "len(negative_emojis)"
   ]
  },
  {
   "cell_type": "code",
   "execution_count": 20,
   "metadata": {},
   "outputs": [
    {
     "data": {
      "text/plain": [
       "[('😡', 33),\n",
       " ('👎', 15),\n",
       " ('😒', 14),\n",
       " ('🆘', 14),\n",
       " ('😂', 13),\n",
       " ('😭', 12),\n",
       " ('✈', 12),\n",
       " ('😢', 11),\n",
       " ('😔', 9),\n",
       " ('😤', 8),\n",
       " ('😩', 8),\n",
       " ('👏', 7),\n",
       " ('😕', 7),\n",
       " ('✌', 6),\n",
       " ('😥', 5),\n",
       " ('💩', 5),\n",
       " ('❤', 5),\n",
       " ('😑', 5),\n",
       " ('❄', 4),\n",
       " ('😄', 4)]"
      ]
     },
     "execution_count": 20,
     "metadata": {},
     "output_type": "execute_result"
    }
   ],
   "source": [
    "negative_emojis_counter = Counter(negative_emojis)\n",
    "negative_emojis_counter.most_common(20)"
   ]
  },
  {
   "cell_type": "code",
   "execution_count": 21,
   "metadata": {
    "scrolled": true
   },
   "outputs": [
    {
     "data": {
      "text/plain": [
       "[Text(0, 0, '😡'),\n",
       " Text(0, 0, '👎'),\n",
       " Text(0, 0, '😒'),\n",
       " Text(0, 0, '🆘'),\n",
       " Text(0, 0, '😂'),\n",
       " Text(0, 0, '😭'),\n",
       " Text(0, 0, '✈'),\n",
       " Text(0, 0, '😢'),\n",
       " Text(0, 0, '😔'),\n",
       " Text(0, 0, '😤'),\n",
       " Text(0, 0, '😩'),\n",
       " Text(0, 0, '👏'),\n",
       " Text(0, 0, '😕'),\n",
       " Text(0, 0, '✌'),\n",
       " Text(0, 0, '😥'),\n",
       " Text(0, 0, '💩'),\n",
       " Text(0, 0, '❤'),\n",
       " Text(0, 0, '😑'),\n",
       " Text(0, 0, '❄'),\n",
       " Text(0, 0, '😄')]"
      ]
     },
     "execution_count": 21,
     "metadata": {},
     "output_type": "execute_result"
    },
    {
     "data": {
      "image/png": "[encoded data removed]",
      "text/plain": [
       "<Figure size 1440x504 with 1 Axes>"
      ]
     },
     "metadata": {
      "needs_background": "light"
     },
     "output_type": "display_data"
    }
   ],
   "source": [
    "# convert list of tuples into data frame\n",
    "freq_df_negative_emojis = pd.DataFrame.from_records(negative_emojis_counter.most_common(20),\n",
    "                                    columns=['emoji', 'count'])\n",
    "\n",
    "# create bar plot\n",
    "distribution_bar_negative_emojis = freq_df_negative_emojis.plot(\n",
    "    kind='bar', \n",
    "    x='emoji',\n",
    "    color='red',\n",
    "    figsize=(20,7)\n",
    ")\n",
    "distribution_bar_negative_emojis.set_title(\n",
    "    'Frequency distribution of Emojis in Negative Tweets',\n",
    "    fontsize=25\n",
    ")\n",
    "distribution_bar_negative_emojis.set_xticklabels(\n",
    "    freq_df_negative_emojis.emoji.tolist(), \n",
    "    rotation = 0, \n",
    "    fontsize = 17, \n",
    "    #fontproperties=prop\n",
    "    fontname='Segoe UI Emoji'\n",
    ")\n"
   ]
  },
  {
   "cell_type": "markdown",
   "metadata": {},
   "source": [
    "### Analysis of Frequency distribution of Emojis in Negative Tweets\n",
    "The `Angry Face` emoji was by far the most used to express negative sentiment. The usage of the emojis indicated that users were mostly angry, sad, or dissatisfied. There is very little overlap of the emojis between negative and positive tweets, and negative and neutral tweets, but the general variety of emojis used is consistent to their usage of negative expression of sentiment. Overall number of emojis used in negative tweets was slightly higher than neutral tweets. "
   ]
  },
  {
   "cell_type": "markdown",
   "metadata": {},
   "source": [
    "### Distribution of emoticons grouped by positive, neutral, and negative sentiments"
   ]
  },
  {
   "cell_type": "markdown",
   "metadata": {},
   "source": [
    "### Positive tweets with Emoticons"
   ]
  },
  {
   "cell_type": "code",
   "execution_count": 22,
   "metadata": {},
   "outputs": [],
   "source": [
    "#create a list of tokens from the tweets\n",
    "list_of_emoticons_positive = []\n",
    "df_tweets_positive_emoticons = df_tweets_positive.loc[df_tweets_positive['emoticons_flag'] == True]"
   ]
  },
  {
   "cell_type": "markdown",
   "metadata": {},
   "source": [
    "Number of tweets of positive sentiment that contained emoticons:"
   ]
  },
  {
   "cell_type": "code",
   "execution_count": 23,
   "metadata": {},
   "outputs": [
    {
     "data": {
      "text/plain": [
       "146"
      ]
     },
     "execution_count": 23,
     "metadata": {},
     "output_type": "execute_result"
    }
   ],
   "source": [
    "len(df_tweets_positive_emoticons)"
   ]
  },
  {
   "cell_type": "code",
   "execution_count": 24,
   "metadata": {},
   "outputs": [],
   "source": [
    "#create a list\n",
    "positive_emoticons = []\n",
    "\n",
    "for i, row in df_tweets_positive_emoticons.iterrows():\n",
    "    tweet_emoticons = df_tweets_positive_emoticons.at[i, 'emoticons']\n",
    "    #print(type(tweet_emoticons))\n",
    "    \n",
    "    tweet_emoticons_list = list(tweet_emoticons.split(\",\")) \n",
    "    \n",
    "    for emoticon in tweet_emoticons_list:\n",
    "        #print('emoticon: ' + emoticon)\n",
    "        \n",
    "        #strip brackets, quote, and spaces\n",
    "        emoticon = emoticon.strip('[]')\n",
    "        emoticon = emoticon.replace(\"\\'\", \"\")\n",
    "        emoticon = emoticon.strip()\n",
    "        \n",
    "        #print('emoticon_strip: ' + emoticon)\n",
    "        positive_emoticons.append(emoticon)"
   ]
  },
  {
   "cell_type": "markdown",
   "metadata": {},
   "source": [
    "Number of emoticons used in positive tweets:"
   ]
  },
  {
   "cell_type": "code",
   "execution_count": 25,
   "metadata": {
    "scrolled": true
   },
   "outputs": [
    {
     "data": {
      "text/plain": [
       "150"
      ]
     },
     "execution_count": 25,
     "metadata": {},
     "output_type": "execute_result"
    }
   ],
   "source": [
    "len(positive_emoticons)"
   ]
  },
  {
   "cell_type": "code",
   "execution_count": 26,
   "metadata": {},
   "outputs": [
    {
     "data": {
      "text/plain": [
       "[(':)', 88),\n",
       " (':-)', 20),\n",
       " (';)', 19),\n",
       " (':D', 6),\n",
       " ('DX', 5),\n",
       " (':(', 4),\n",
       " ('d:', 2),\n",
       " ('(^^)', 1),\n",
       " ('0:3', 1),\n",
       " ('^_^', 1),\n",
       " (':3', 1),\n",
       " (':-(', 1),\n",
       " (':P', 1)]"
      ]
     },
     "execution_count": 26,
     "metadata": {},
     "output_type": "execute_result"
    }
   ],
   "source": [
    "positive_emoticons_counter = Counter(positive_emoticons)\n",
    "positive_emoticons_counter.most_common(20)"
   ]
  },
  {
   "cell_type": "code",
   "execution_count": 27,
   "metadata": {},
   "outputs": [
    {
     "data": {
      "text/plain": [
       "[Text(0, 0, ':)'),\n",
       " Text(0, 0, ':-)'),\n",
       " Text(0, 0, ';)'),\n",
       " Text(0, 0, ':D'),\n",
       " Text(0, 0, 'DX'),\n",
       " Text(0, 0, ':('),\n",
       " Text(0, 0, 'd:'),\n",
       " Text(0, 0, '(^^)'),\n",
       " Text(0, 0, '0:3'),\n",
       " Text(0, 0, '^_^'),\n",
       " Text(0, 0, ':3'),\n",
       " Text(0, 0, ':-('),\n",
       " Text(0, 0, ':P')]"
      ]
     },
     "execution_count": 27,
     "metadata": {},
     "output_type": "execute_result"
    },
    {
     "data": {
      "image/png": "[encoded data removed]",
      "text/plain": [
       "<Figure size 1440x504 with 1 Axes>"
      ]
     },
     "metadata": {
      "needs_background": "light"
     },
     "output_type": "display_data"
    }
   ],
   "source": [
    "# convert list of tuples into data frame\n",
    "freq_df_positive_emoticons = pd.DataFrame.from_records(positive_emoticons_counter.most_common(20),\n",
    "                                    columns=['emoticon', 'count'])\n",
    "\n",
    "# create bar plot\n",
    "distribution_bar_positive_emoticons = freq_df_positive_emoticons.plot(\n",
    "    kind='bar', \n",
    "    x='emoticon',\n",
    "    color='green',\n",
    "    figsize=(20,7)\n",
    ")\n",
    "distribution_bar_positive_emoticons.set_title(\n",
    "    'Frequency distribution of Emoticons in Positive Tweets',\n",
    "    fontsize=25\n",
    ")\n",
    "distribution_bar_positive_emoticons.set_xticklabels(\n",
    "    freq_df_positive_emoticons.emoticon.tolist(), \n",
    "    rotation = 0, \n",
    "    fontsize = 17, \n",
    "    #fontproperties=prop\n",
    "    fontname='Segoe UI Emoji'\n",
    ")\n"
   ]
  },
  {
   "cell_type": "markdown",
   "metadata": {},
   "source": [
    "### Analysis of Frequency distribution of Emoticons in Positive Tweets\n",
    "Compared to the use of emojis in positive tweets, emoticons were not as popular. This makes sense given the \"youthful\" nature of Twitter, most users would know how to use emojis, instead of typing out emoticons, which is considered the \"old school\" method of expression emotion via pseudo-visual imagery. Unlike emojis in positive tweets, the `Happy Face` emoticon was by far the most used. Other emoticons were not used quite as frequently.  "
   ]
  },
  {
   "cell_type": "markdown",
   "metadata": {},
   "source": [
    "### Neutral tweets with Emoticons"
   ]
  },
  {
   "cell_type": "code",
   "execution_count": 28,
   "metadata": {},
   "outputs": [],
   "source": [
    "#create a list of tokens from the tweets\n",
    "list_of_emoticons_neutral = []\n",
    "df_tweets_neutral_emoticons = df_tweets_neutral.loc[df_tweets_neutral['emoticons_flag'] == True]"
   ]
  },
  {
   "cell_type": "markdown",
   "metadata": {},
   "source": [
    "Number of tweets of neutral sentiment that contained emoticons:"
   ]
  },
  {
   "cell_type": "code",
   "execution_count": 29,
   "metadata": {
    "scrolled": true
   },
   "outputs": [
    {
     "data": {
      "text/plain": [
       "71"
      ]
     },
     "execution_count": 29,
     "metadata": {},
     "output_type": "execute_result"
    }
   ],
   "source": [
    "len(df_tweets_neutral_emoticons)"
   ]
  },
  {
   "cell_type": "code",
   "execution_count": 30,
   "metadata": {},
   "outputs": [],
   "source": [
    "#create a list\n",
    "neutral_emoticons = []\n",
    "\n",
    "for i, row in df_tweets_neutral_emoticons.iterrows():\n",
    "    tweet_emoticons = df_tweets_neutral_emoticons.at[i, 'emoticons']\n",
    "    #print(type(tweet_emoticons))\n",
    "    \n",
    "    tweet_emoticons_list = list(tweet_emoticons.split(\",\")) \n",
    "    \n",
    "    for emoticon in tweet_emoticons_list:\n",
    "        #print('emoticon: ' + emoticon)\n",
    "        \n",
    "        #strip brackets, quote, and spaces\n",
    "        emoticon = emoticon.strip('[]')\n",
    "        emoticon = emoticon.replace(\"\\'\", \"\")\n",
    "        emoticon = emoticon.strip()\n",
    "        \n",
    "        #print('emoticon_strip: ' + emoticon)\n",
    "        neutral_emoticons.append(emoticon)"
   ]
  },
  {
   "cell_type": "markdown",
   "metadata": {},
   "source": [
    "Number of emoticons used in neutral tweets:"
   ]
  },
  {
   "cell_type": "code",
   "execution_count": 31,
   "metadata": {
    "scrolled": true
   },
   "outputs": [
    {
     "data": {
      "text/plain": [
       "71"
      ]
     },
     "execution_count": 31,
     "metadata": {},
     "output_type": "execute_result"
    }
   ],
   "source": [
    "len(neutral_emoticons)"
   ]
  },
  {
   "cell_type": "code",
   "execution_count": 32,
   "metadata": {},
   "outputs": [
    {
     "data": {
      "text/plain": [
       "[(':)', 22),\n",
       " (';)', 12),\n",
       " (':3', 9),\n",
       " (':(', 8),\n",
       " ('DX', 6),\n",
       " (':-)', 3),\n",
       " (':-(', 2),\n",
       " (':/', 2),\n",
       " ('D8', 2),\n",
       " ('XP', 2),\n",
       " ('d:', 1),\n",
       " (':P', 1),\n",
       " ('D:', 1)]"
      ]
     },
     "execution_count": 32,
     "metadata": {},
     "output_type": "execute_result"
    }
   ],
   "source": [
    "neutral_emoticons_counter = Counter(neutral_emoticons)\n",
    "neutral_emoticons_counter.most_common(20)"
   ]
  },
  {
   "cell_type": "code",
   "execution_count": 33,
   "metadata": {},
   "outputs": [
    {
     "data": {
      "text/plain": [
       "[Text(0, 0, ':)'),\n",
       " Text(0, 0, ';)'),\n",
       " Text(0, 0, ':3'),\n",
       " Text(0, 0, ':('),\n",
       " Text(0, 0, 'DX'),\n",
       " Text(0, 0, ':-)'),\n",
       " Text(0, 0, ':-('),\n",
       " Text(0, 0, ':/'),\n",
       " Text(0, 0, 'D8'),\n",
       " Text(0, 0, 'XP'),\n",
       " Text(0, 0, 'd:'),\n",
       " Text(0, 0, ':P'),\n",
       " Text(0, 0, 'D:')]"
      ]
     },
     "execution_count": 33,
     "metadata": {},
     "output_type": "execute_result"
    },
    {
     "data": {
      "image/png": "[encoded data removed]",
      "text/plain": [
       "<Figure size 1440x504 with 1 Axes>"
      ]
     },
     "metadata": {
      "needs_background": "light"
     },
     "output_type": "display_data"
    }
   ],
   "source": [
    "# convert list of tuples into data frame\n",
    "freq_df_neutral_emoticons = pd.DataFrame.from_records(neutral_emoticons_counter.most_common(20),\n",
    "                                    columns=['emoticon', 'count'])\n",
    "\n",
    "# create bar plot\n",
    "distribution_bar_neutral_emoticons = freq_df_neutral_emoticons.plot(\n",
    "    kind='bar', \n",
    "    x='emoticon',\n",
    "    color='orange',\n",
    "    figsize=(20,7)\n",
    ")\n",
    "distribution_bar_neutral_emoticons.set_title(\n",
    "    'Frequency distribution of Emoticons in Neutral Tweets',\n",
    "    fontsize=25\n",
    ")\n",
    "distribution_bar_neutral_emoticons.set_xticklabels(\n",
    "    freq_df_neutral_emoticons.emoticon.tolist(), \n",
    "    rotation = 0, \n",
    "    fontsize = 17, \n",
    "    #fontproperties=prop\n",
    "    fontname='Segoe UI Emoji'\n",
    ")\n"
   ]
  },
  {
   "cell_type": "markdown",
   "metadata": {},
   "source": [
    "### Analysis of Frequency distribution of Emoticons in Neutral Tweets\n",
    "Similar to the use of emojis in neutral tweets, there is much overlap between the use of emoticons between positive and neutral sentiments, and not as much overlap between the use of emoticons between neutral and negative sentiments. There were not a lot of neutral tweets that contained emoticons either."
   ]
  },
  {
   "cell_type": "markdown",
   "metadata": {},
   "source": [
    "### Negative tweets with Emoticons"
   ]
  },
  {
   "cell_type": "code",
   "execution_count": 34,
   "metadata": {},
   "outputs": [],
   "source": [
    "#create a list of tokens from the tweets\n",
    "list_of_emoticons_negative = []\n",
    "df_tweets_negative_emoticons = df_tweets_negative.loc[df_tweets_negative['emoticons_flag'] == True]"
   ]
  },
  {
   "cell_type": "markdown",
   "metadata": {},
   "source": [
    "Number of tweets of negative sentiment that contained emoticons:"
   ]
  },
  {
   "cell_type": "code",
   "execution_count": 35,
   "metadata": {
    "scrolled": true
   },
   "outputs": [
    {
     "data": {
      "text/plain": [
       "156"
      ]
     },
     "execution_count": 35,
     "metadata": {},
     "output_type": "execute_result"
    }
   ],
   "source": [
    "len(df_tweets_negative_emoticons)"
   ]
  },
  {
   "cell_type": "code",
   "execution_count": 36,
   "metadata": {},
   "outputs": [],
   "source": [
    "#create a list\n",
    "negative_emoticons = []\n",
    "\n",
    "for i, row in df_tweets_negative_emoticons.iterrows():\n",
    "    tweet_emoticons = df_tweets_negative_emoticons.at[i, 'emoticons']\n",
    "    #print(type(tweet_emoticons))\n",
    "    \n",
    "    tweet_emoticons_list = list(tweet_emoticons.split(\",\")) \n",
    "    \n",
    "    for emoticon in tweet_emoticons_list:\n",
    "        #print('emoticon: ' + emoticon)\n",
    "        \n",
    "        #strip brackets, quote, and spaces\n",
    "        emoticon = emoticon.strip('[]')\n",
    "        emoticon = emoticon.replace(\"\\'\", \"\")\n",
    "        emoticon = emoticon.strip()\n",
    "        \n",
    "        #print('emoticon_strip: ' + emoticon)\n",
    "        negative_emoticons.append(emoticon)"
   ]
  },
  {
   "cell_type": "markdown",
   "metadata": {},
   "source": [
    "Number of emoticons used in negative tweets:"
   ]
  },
  {
   "cell_type": "code",
   "execution_count": 37,
   "metadata": {
    "scrolled": true
   },
   "outputs": [
    {
     "data": {
      "text/plain": [
       "165"
      ]
     },
     "execution_count": 37,
     "metadata": {},
     "output_type": "execute_result"
    }
   ],
   "source": [
    "len(negative_emoticons)"
   ]
  },
  {
   "cell_type": "code",
   "execution_count": 38,
   "metadata": {},
   "outputs": [
    {
     "data": {
      "text/plain": [
       "[(':3', 54),\n",
       " (':(', 53),\n",
       " (':)', 13),\n",
       " (':/', 12),\n",
       " ('0:3', 7),\n",
       " ('DX', 6),\n",
       " (':-(', 5),\n",
       " ('d:', 4),\n",
       " (';)', 3),\n",
       " ('XP', 3),\n",
       " ('\":(\"', 1),\n",
       " (':c', 1),\n",
       " (':P', 1),\n",
       " (':|', 1),\n",
       " ('D8', 1)]"
      ]
     },
     "execution_count": 38,
     "metadata": {},
     "output_type": "execute_result"
    }
   ],
   "source": [
    "negative_emoticons_counter = Counter(negative_emoticons)\n",
    "negative_emoticons_counter.most_common(20)"
   ]
  },
  {
   "cell_type": "code",
   "execution_count": 39,
   "metadata": {},
   "outputs": [
    {
     "data": {
      "text/plain": [
       "[Text(0, 0, ':3'),\n",
       " Text(0, 0, ':('),\n",
       " Text(0, 0, ':)'),\n",
       " Text(0, 0, ':/'),\n",
       " Text(0, 0, '0:3'),\n",
       " Text(0, 0, 'DX'),\n",
       " Text(0, 0, ':-('),\n",
       " Text(0, 0, 'd:'),\n",
       " Text(0, 0, ';)'),\n",
       " Text(0, 0, 'XP'),\n",
       " Text(0, 0, '\":(\"'),\n",
       " Text(0, 0, ':c'),\n",
       " Text(0, 0, ':P'),\n",
       " Text(0, 0, ':|'),\n",
       " Text(0, 0, 'D8')]"
      ]
     },
     "execution_count": 39,
     "metadata": {},
     "output_type": "execute_result"
    },
    {
     "data": {
      "image/png": "[encoded data removed]",
      "text/plain": [
       "<Figure size 1440x504 with 1 Axes>"
      ]
     },
     "metadata": {
      "needs_background": "light"
     },
     "output_type": "display_data"
    }
   ],
   "source": [
    "# convert list of tuples into data frame\n",
    "freq_df_negative_emoticons = pd.DataFrame.from_records(negative_emoticons_counter.most_common(20),\n",
    "                                    columns=['emoticon', 'count'])\n",
    "\n",
    "# create bar plot\n",
    "distribution_bar_negative_emoticons = freq_df_negative_emoticons.plot(\n",
    "    kind='bar', \n",
    "    x='emoticon',\n",
    "    color='red',\n",
    "    figsize=(20,7)\n",
    ")\n",
    "distribution_bar_negative_emoticons.set_title(\n",
    "    'Frequency distribution of Emoticons in Negative Tweets',\n",
    "    fontsize=25\n",
    ")\n",
    "distribution_bar_negative_emoticons.set_xticklabels(\n",
    "    freq_df_negative_emoticons.emoticon.tolist(), \n",
    "    rotation = 0, \n",
    "    fontsize = 17, \n",
    "    #fontproperties=prop\n",
    "    fontname='Segoe UI Emoji'\n",
    ")\n"
   ]
  },
  {
   "cell_type": "markdown",
   "metadata": {},
   "source": [
    "### Analysis of Frequency distribution of Emoticons in Negative Tweets\n",
    "It must be stated that it was initially surprising to see the `Cat Face`, or `:3` emoticon top the frequency distribution. However, upon closer inspection of the data, there is a strong possibility that there was a mistake in our data cleaning steps; for some reason, tweets contained times (e.g. \"12:30\") would be extracted and interpreted as emoticons. This represents a data quality issue that will need to be fixed. Other emoticons with similar data quality issue include `0:3`, `DX`, and `d:`. Despite these data quality issues, it can be noted that some of the emoticons, such as the typical `Sad Face`, or `:(` emoticon do represent what is considered a normal way of expressing negative sentiment."
   ]
  },
  {
   "cell_type": "markdown",
   "metadata": {},
   "source": [
    "### Distribution of hashtags grouped by positive, neutral, and negative sentiments"
   ]
  },
  {
   "cell_type": "markdown",
   "metadata": {},
   "source": [
    "### Positive tweets with Hashtags"
   ]
  },
  {
   "cell_type": "code",
   "execution_count": 40,
   "metadata": {},
   "outputs": [],
   "source": [
    "#create a list of tokens from the tweets\n",
    "list_of_hashtags_positive = []\n",
    "df_tweets_positive_hashtags = df_tweets_positive.loc[df_tweets_positive['hashtags_flag'] == True]"
   ]
  },
  {
   "cell_type": "markdown",
   "metadata": {},
   "source": [
    "Number of tweets of positive sentiment that contained hashtags:"
   ]
  },
  {
   "cell_type": "code",
   "execution_count": 41,
   "metadata": {
    "scrolled": true
   },
   "outputs": [
    {
     "data": {
      "text/plain": [
       "435"
      ]
     },
     "execution_count": 41,
     "metadata": {},
     "output_type": "execute_result"
    }
   ],
   "source": [
    "len(df_tweets_positive_hashtags)"
   ]
  },
  {
   "cell_type": "code",
   "execution_count": 42,
   "metadata": {},
   "outputs": [],
   "source": [
    "#create a list\n",
    "positive_hashtags = []\n",
    "\n",
    "for i, row in df_tweets_positive_hashtags.iterrows():\n",
    "    tweet_hashtags = df_tweets_positive_hashtags.at[i, 'hashtags']\n",
    "    #print(type(tweet_hashtags))\n",
    "    \n",
    "    tweet_hashtags_list = list(tweet_hashtags.split(\",\")) \n",
    "    \n",
    "    for hashtag in tweet_hashtags_list:\n",
    "        #print('hashtag: ' + hashtag)\n",
    "        \n",
    "        #strip brackets, quote, and spaces\n",
    "        hashtag = hashtag.strip('[]')\n",
    "        hashtag = hashtag.replace(\"\\'\", \"\")\n",
    "        hashtag = hashtag.strip()\n",
    "        \n",
    "        #print('hashtag_strip: ' + hashtag)\n",
    "        positive_hashtags.append(hashtag)"
   ]
  },
  {
   "cell_type": "markdown",
   "metadata": {},
   "source": [
    "Number of hashtags used in positive tweets:"
   ]
  },
  {
   "cell_type": "code",
   "execution_count": 43,
   "metadata": {
    "scrolled": true
   },
   "outputs": [
    {
     "data": {
      "text/plain": [
       "699"
      ]
     },
     "execution_count": 43,
     "metadata": {},
     "output_type": "execute_result"
    }
   ],
   "source": [
    "len(positive_hashtags)"
   ]
  },
  {
   "cell_type": "code",
   "execution_count": 44,
   "metadata": {},
   "outputs": [
    {
     "data": {
      "text/plain": [
       "[('DestinationDragons', 19),\n",
       " ('customerservice', 8),\n",
       " ('travel', 8),\n",
       " ('jetblue', 7),\n",
       " ('JetBlue', 7),\n",
       " ('FlyFi', 5),\n",
       " ('Boston', 4),\n",
       " ('thankyou', 4),\n",
       " ('22', 4),\n",
       " ('bestairline', 4),\n",
       " ('flyfi', 4),\n",
       " ('Mint', 4),\n",
       " ('kudos', 4),\n",
       " ('LAX', 4),\n",
       " ('JVMChat', 4),\n",
       " ('oscars2016', 3),\n",
       " ('happycustomer', 3),\n",
       " ('southwestairlines', 3),\n",
       " ('SWA', 3),\n",
       " ('85832', 3)]"
      ]
     },
     "execution_count": 44,
     "metadata": {},
     "output_type": "execute_result"
    }
   ],
   "source": [
    "positive_hashtags_counter = Counter(positive_hashtags)\n",
    "positive_hashtags_counter.most_common(20)"
   ]
  },
  {
   "cell_type": "code",
   "execution_count": 45,
   "metadata": {},
   "outputs": [
    {
     "data": {
      "text/plain": [
       "[Text(0, 0, 'DestinationDragons'),\n",
       " Text(0, 0, 'customerservice'),\n",
       " Text(0, 0, 'travel'),\n",
       " Text(0, 0, 'jetblue'),\n",
       " Text(0, 0, 'JetBlue'),\n",
       " Text(0, 0, 'FlyFi'),\n",
       " Text(0, 0, 'Boston'),\n",
       " Text(0, 0, 'thankyou'),\n",
       " Text(0, 0, '22'),\n",
       " Text(0, 0, 'bestairline'),\n",
       " Text(0, 0, 'flyfi'),\n",
       " Text(0, 0, 'Mint'),\n",
       " Text(0, 0, 'kudos'),\n",
       " Text(0, 0, 'LAX'),\n",
       " Text(0, 0, 'JVMChat'),\n",
       " Text(0, 0, 'oscars2016'),\n",
       " Text(0, 0, 'happycustomer'),\n",
       " Text(0, 0, 'southwestairlines'),\n",
       " Text(0, 0, 'SWA'),\n",
       " Text(0, 0, '85832')]"
      ]
     },
     "execution_count": 45,
     "metadata": {},
     "output_type": "execute_result"
    },
    {
     "data": {
      "image/png": "[encoded data removed]",
      "text/plain": [
       "<Figure size 1440x504 with 1 Axes>"
      ]
     },
     "metadata": {
      "needs_background": "light"
     },
     "output_type": "display_data"
    }
   ],
   "source": [
    "# convert list of tuples into data frame\n",
    "freq_df_positive_hashtags = pd.DataFrame.from_records(positive_hashtags_counter.most_common(20),\n",
    "                                    columns=['hashtag', 'count'])\n",
    "\n",
    "# create bar plot\n",
    "distribution_bar_positive_hashtags = freq_df_positive_hashtags.plot(\n",
    "    kind='bar', \n",
    "    x='hashtag',\n",
    "    color='green',\n",
    "    figsize=(20,7)\n",
    ")\n",
    "distribution_bar_positive_hashtags.set_title(\n",
    "    'Frequency distribution of Hashtags in Positive Tweets',\n",
    "    fontsize=25\n",
    ")\n",
    "distribution_bar_positive_hashtags.set_xticklabels(\n",
    "    freq_df_positive_hashtags.hashtag.tolist(), \n",
    "    rotation = 90, \n",
    "    fontsize = 17, \n",
    "    #fontproperties=prop\n",
    "    fontname='Segoe UI Emoji'\n",
    ")\n"
   ]
  },
  {
   "cell_type": "markdown",
   "metadata": {},
   "source": [
    "### Analysis of Frequency distribution of Hashtags in Positive Tweets\n",
    "Despite the large number of tweets with positive hashtags, the hashtags themselves were split across a large variety of hashtags, with hashtag `DestinationDragons`only appearing 19 times in 699 hashtags in 435 tweets. The hashtag `DestinationDragons` refers to the promotional event hosted by Southwest Airlines for the Imagine Dragons tour: http://destinationdragons.com/. However, upon closer inspection, there is the possibility of another data quality issue, namely that the there were tweets with the same letters, but different case; examples include `jetblue` vs `JetBlue`, and `FlyFi` vs `flyfi`. This could possibly explain why the distribution of hashtags was seemingly distributed so equally.  "
   ]
  },
  {
   "cell_type": "markdown",
   "metadata": {},
   "source": [
    "### Neutral tweets with Hashtags"
   ]
  },
  {
   "cell_type": "code",
   "execution_count": 46,
   "metadata": {},
   "outputs": [],
   "source": [
    "#create a list of tokens from the tweets\n",
    "list_of_hashtags_neutral = []\n",
    "df_tweets_neutral_hashtags = df_tweets_neutral.loc[df_tweets_neutral['hashtags_flag'] == True]"
   ]
  },
  {
   "cell_type": "markdown",
   "metadata": {},
   "source": [
    "Number of tweets of neutral sentiment that contained hashtags:"
   ]
  },
  {
   "cell_type": "code",
   "execution_count": 47,
   "metadata": {
    "scrolled": true
   },
   "outputs": [
    {
     "data": {
      "text/plain": [
       "410"
      ]
     },
     "execution_count": 47,
     "metadata": {},
     "output_type": "execute_result"
    }
   ],
   "source": [
    "len(df_tweets_neutral_hashtags)"
   ]
  },
  {
   "cell_type": "code",
   "execution_count": 48,
   "metadata": {},
   "outputs": [],
   "source": [
    "#create a list\n",
    "neutral_hashtags = []\n",
    "\n",
    "for i, row in df_tweets_neutral_hashtags.iterrows():\n",
    "    tweet_hashtags = df_tweets_neutral_hashtags.at[i, 'hashtags']\n",
    "    #print(type(tweet_hashtags))\n",
    "    \n",
    "    tweet_hashtags_list = list(tweet_hashtags.split(\",\")) \n",
    "    \n",
    "    for hashtag in tweet_hashtags_list:\n",
    "        #print('hashtag: ' + hashtag)\n",
    "        \n",
    "        #strip brackets, quote, and spaces\n",
    "        hashtag = hashtag.strip('[]')\n",
    "        hashtag = hashtag.replace(\"\\'\", \"\")\n",
    "        hashtag = hashtag.strip()\n",
    "        \n",
    "        #print('hashtag_strip: ' + hashtag)\n",
    "        neutral_hashtags.append(hashtag)"
   ]
  },
  {
   "cell_type": "markdown",
   "metadata": {},
   "source": [
    "Number of hashtags used in neutral tweets:"
   ]
  },
  {
   "cell_type": "code",
   "execution_count": 49,
   "metadata": {
    "scrolled": true
   },
   "outputs": [
    {
     "data": {
      "text/plain": [
       "653"
      ]
     },
     "execution_count": 49,
     "metadata": {},
     "output_type": "execute_result"
    }
   ],
   "source": [
    "len(neutral_hashtags)"
   ]
  },
  {
   "cell_type": "code",
   "execution_count": 50,
   "metadata": {},
   "outputs": [
    {
     "data": {
      "text/plain": [
       "[('DestinationDragons', 49),\n",
       " ('avgeek', 17),\n",
       " ('flyingitforward', 7),\n",
       " ('B737', 6),\n",
       " ('Lufthansa', 6),\n",
       " ('flights', 5),\n",
       " ('Travel', 5),\n",
       " ('Flight', 5),\n",
       " ('JFK', 4),\n",
       " ('UnitedAirlines', 4),\n",
       " ('travel', 4),\n",
       " ('Columbus', 4),\n",
       " ('Apple', 4),\n",
       " ('MayweatherPacquiao', 3),\n",
       " ('MiddleEast', 3),\n",
       " ('B767', 3),\n",
       " ('Newark', 3),\n",
       " ('jailbreak', 3),\n",
       " ('RAG', 3),\n",
       " ('ThankYou', 3)]"
      ]
     },
     "execution_count": 50,
     "metadata": {},
     "output_type": "execute_result"
    }
   ],
   "source": [
    "neutral_hashtags_counter = Counter(neutral_hashtags)\n",
    "neutral_hashtags_counter.most_common(20)"
   ]
  },
  {
   "cell_type": "code",
   "execution_count": 51,
   "metadata": {},
   "outputs": [
    {
     "data": {
      "text/plain": [
       "[Text(0, 0, 'DestinationDragons'),\n",
       " Text(0, 0, 'avgeek'),\n",
       " Text(0, 0, 'flyingitforward'),\n",
       " Text(0, 0, 'B737'),\n",
       " Text(0, 0, 'Lufthansa'),\n",
       " Text(0, 0, 'flights'),\n",
       " Text(0, 0, 'Travel'),\n",
       " Text(0, 0, 'Flight'),\n",
       " Text(0, 0, 'JFK'),\n",
       " Text(0, 0, 'UnitedAirlines'),\n",
       " Text(0, 0, 'travel'),\n",
       " Text(0, 0, 'Columbus'),\n",
       " Text(0, 0, 'Apple'),\n",
       " Text(0, 0, 'MayweatherPacquiao'),\n",
       " Text(0, 0, 'MiddleEast'),\n",
       " Text(0, 0, 'B767'),\n",
       " Text(0, 0, 'Newark'),\n",
       " Text(0, 0, 'jailbreak'),\n",
       " Text(0, 0, 'RAG'),\n",
       " Text(0, 0, 'ThankYou')]"
      ]
     },
     "execution_count": 51,
     "metadata": {},
     "output_type": "execute_result"
    },
    {
     "data": {
      "image/png": "[encoded data removed]",
      "text/plain": [
       "<Figure size 1440x504 with 1 Axes>"
      ]
     },
     "metadata": {
      "needs_background": "light"
     },
     "output_type": "display_data"
    }
   ],
   "source": [
    "# convert list of tuples into data frame\n",
    "freq_df_neutral_hashtags = pd.DataFrame.from_records(neutral_hashtags_counter.most_common(20),\n",
    "                                    columns=['hashtag', 'count'])\n",
    "\n",
    "# create bar plot\n",
    "distribution_bar_neutral_hashtags = freq_df_neutral_hashtags.plot(\n",
    "    kind='bar', \n",
    "    x='hashtag',\n",
    "    color='orange',\n",
    "    figsize=(20,7)\n",
    ")\n",
    "distribution_bar_neutral_hashtags.set_title(\n",
    "    'Frequency distribution of Hashtags in Neutral Tweets',\n",
    "    fontsize=25\n",
    ")\n",
    "distribution_bar_neutral_hashtags.set_xticklabels(\n",
    "    freq_df_neutral_hashtags.hashtag.tolist(), \n",
    "    rotation = 90, \n",
    "    fontsize = 17, \n",
    "    #fontproperties=prop\n",
    "    fontname='Segoe UI Emoji'\n",
    ")\n"
   ]
  },
  {
   "cell_type": "markdown",
   "metadata": {},
   "source": [
    "### Analysis of Frequency distribution of Hashtags in Neutral Tweets\n",
    "For some reason, neutral tweets featured `DestinationDragons` more frequently at 49 occurences, compared to positive tweets featuring the same hashtag. Unfortunately, the data quality issue with hashtags mentioned earlier with positive tweets likely has affected neutral tweets as well: `travel` vs `Travel`, `flights` vs `Flight`(although this is also a case of not lemmatizing the hashtags). Something that is curious is that neutral tweets had hashtags that referenced a specific airplane model, such as `B737` and `B767`, which I find personally quite odd."
   ]
  },
  {
   "cell_type": "markdown",
   "metadata": {},
   "source": [
    "### Negative tweets with Hashtags"
   ]
  },
  {
   "cell_type": "code",
   "execution_count": 52,
   "metadata": {},
   "outputs": [],
   "source": [
    "#create a list of tokens from the tweets\n",
    "list_of_hashtags_negative = []\n",
    "df_tweets_negative_hashtags = df_tweets_negative.loc[df_tweets_negative['hashtags_flag'] == True]"
   ]
  },
  {
   "cell_type": "markdown",
   "metadata": {},
   "source": [
    "Number of tweets of negative sentiment that contained hashtags:"
   ]
  },
  {
   "cell_type": "code",
   "execution_count": 53,
   "metadata": {
    "scrolled": true
   },
   "outputs": [
    {
     "data": {
      "text/plain": [
       "1523"
      ]
     },
     "execution_count": 53,
     "metadata": {},
     "output_type": "execute_result"
    }
   ],
   "source": [
    "len(df_tweets_negative_hashtags)"
   ]
  },
  {
   "cell_type": "code",
   "execution_count": 54,
   "metadata": {},
   "outputs": [],
   "source": [
    "#create a list\n",
    "negative_hashtags = []\n",
    "\n",
    "for i, row in df_tweets_negative_hashtags.iterrows():\n",
    "    tweet_hashtags = df_tweets_negative_hashtags.at[i, 'hashtags']\n",
    "    #print(type(tweet_hashtags))\n",
    "    \n",
    "    tweet_hashtags_list = list(tweet_hashtags.split(\",\")) \n",
    "    \n",
    "    for hashtag in tweet_hashtags_list:\n",
    "        #print('hashtag: ' + hashtag)\n",
    "        \n",
    "        #strip brackets, quote, and spaces\n",
    "        hashtag = hashtag.strip('[]')\n",
    "        hashtag = hashtag.replace(\"\\'\", \"\")\n",
    "        hashtag = hashtag.strip()\n",
    "        \n",
    "        #print('hashtag_strip: ' + hashtag)\n",
    "        negative_hashtags.append(hashtag)"
   ]
  },
  {
   "cell_type": "markdown",
   "metadata": {},
   "source": [
    "Number of hashtags used in negative tweets:"
   ]
  },
  {
   "cell_type": "code",
   "execution_count": 55,
   "metadata": {
    "scrolled": true
   },
   "outputs": [
    {
     "data": {
      "text/plain": [
       "2140"
      ]
     },
     "execution_count": 55,
     "metadata": {},
     "output_type": "execute_result"
    }
   ],
   "source": [
    "len(negative_hashtags)"
   ]
  },
  {
   "cell_type": "code",
   "execution_count": 56,
   "metadata": {},
   "outputs": [
    {
     "data": {
      "text/plain": [
       "[('fail', 57),\n",
       " ('UnitedAirlines', 29),\n",
       " ('customerservice', 26),\n",
       " ('jetblue', 26),\n",
       " ('usairwaysfail', 24),\n",
       " ('disappointed', 21),\n",
       " ('AmericanAirlines', 20),\n",
       " ('badservice', 19),\n",
       " ('neveragain', 18),\n",
       " ('frustrated', 15),\n",
       " ('help', 15),\n",
       " ('united', 14),\n",
       " ('badcustomerservice', 14),\n",
       " ('USAirways', 14),\n",
       " ('usairways', 14),\n",
       " ('ridiculous', 10),\n",
       " ('nothappy', 10),\n",
       " ('unacceptable', 9),\n",
       " ('unfriendlyskies', 9),\n",
       " ('poorservice', 9)]"
      ]
     },
     "execution_count": 56,
     "metadata": {},
     "output_type": "execute_result"
    }
   ],
   "source": [
    "negative_hashtags_counter = Counter(negative_hashtags)\n",
    "negative_hashtags_counter.most_common(20)"
   ]
  },
  {
   "cell_type": "code",
   "execution_count": 57,
   "metadata": {},
   "outputs": [
    {
     "data": {
      "text/plain": [
       "[Text(0, 0, 'fail'),\n",
       " Text(0, 0, 'UnitedAirlines'),\n",
       " Text(0, 0, 'customerservice'),\n",
       " Text(0, 0, 'jetblue'),\n",
       " Text(0, 0, 'usairwaysfail'),\n",
       " Text(0, 0, 'disappointed'),\n",
       " Text(0, 0, 'AmericanAirlines'),\n",
       " Text(0, 0, 'badservice'),\n",
       " Text(0, 0, 'neveragain'),\n",
       " Text(0, 0, 'frustrated'),\n",
       " Text(0, 0, 'help'),\n",
       " Text(0, 0, 'united'),\n",
       " Text(0, 0, 'badcustomerservice'),\n",
       " Text(0, 0, 'USAirways'),\n",
       " Text(0, 0, 'usairways'),\n",
       " Text(0, 0, 'ridiculous'),\n",
       " Text(0, 0, 'nothappy'),\n",
       " Text(0, 0, 'unacceptable'),\n",
       " Text(0, 0, 'unfriendlyskies'),\n",
       " Text(0, 0, 'poorservice')]"
      ]
     },
     "execution_count": 57,
     "metadata": {},
     "output_type": "execute_result"
    },
    {
     "data": {
      "image/png": "[encoded data removed]",
      "text/plain": [
       "<Figure size 1440x504 with 1 Axes>"
      ]
     },
     "metadata": {
      "needs_background": "light"
     },
     "output_type": "display_data"
    }
   ],
   "source": [
    "# convert list of tuples into data frame\n",
    "freq_df_negative_hashtags = pd.DataFrame.from_records(negative_hashtags_counter.most_common(20),\n",
    "                                    columns=['hashtag', 'count'])\n",
    "\n",
    "# create bar plot\n",
    "distribution_bar_negative_hashtags = freq_df_negative_hashtags.plot(\n",
    "    kind='bar', \n",
    "    x='hashtag',\n",
    "    color='red',\n",
    "    figsize=(20,7)\n",
    ")\n",
    "distribution_bar_negative_hashtags.set_title(\n",
    "    'Frequency distribution of Hashtags in Negative Tweets',\n",
    "    fontsize=25\n",
    ")\n",
    "distribution_bar_negative_hashtags.set_xticklabels(\n",
    "    freq_df_negative_hashtags.hashtag.tolist(), \n",
    "    rotation = 90, \n",
    "    fontsize = 17, \n",
    "    #fontproperties=prop\n",
    "    fontname='Segoe UI Emoji'\n",
    ")\n"
   ]
  },
  {
   "cell_type": "markdown",
   "metadata": {},
   "source": [
    "### Analysis of Frequency distribution of Hashtags in Negative Tweets\n",
    "The number of negative tweets with hashtags was approximately double the number of positive and negative tweets combined. This itself is interesting because it seems to imply a casuality that users would use hashtags more often to express negative sentiments. There is some credence to this theory, despite the warnings of the oft-repeated phrase \"Correlation does not imply causation\", as users who are likely upset or sad with the airlines will want to raise this issue as quickly as possible in social media so that they are likelier to be rewarded/compensated; in Twitter, a likely way of getting a viral tweet is using as many hashtags as possible so it appears more often in multiple user's Twitter feeds. Nevertheless, this is just a theory: what was suggested is just a hypothesis, and for a hypothesis to be proven statistically significant, it must be tested.\n",
    "\n",
    "The `fail` hashtag was used quite frequently, occuring a total of 57, but like the other most frequent hashtags in neutral and positive sentiments, it still is a small percentage of the total number of hashtags in negative tweets. Like the other positive and neutral tweets, the distribution of hashtags in negative tweets is affected by the same data quality issue: `USAirways` vs `usairways`. On top of that, another issue we can see from the frequency distribution that the same airline companies have different hashtags due to different naming conventions (for example, `united` vs `UnitedAirlines`). Solving this data quality issue will be quite challenging. Despite the aforementioned data quality issues, there are some positives to be taken away. Compared to the positive and neutral tweets, tt appears that many negative tweets contained the hashtags of the name of the airline company. Also, negative tweets also contained words normally associated with negative sentiment, such as `disappointed`, `frustrated`, `ridiculous`, `nothappy`, etc."
   ]
  },
  {
   "cell_type": "markdown",
   "metadata": {},
   "source": [
    "## Final Thoughts\n"
   ]
  },
  {
   "cell_type": "markdown",
   "metadata": {},
   "source": [
    "As discussed earlier, there were several data quality issues, particularly with the extraction of emoticons and hashtags. The issue with the extraction of emoticons is caused by a step in the cleaning process that confuses the emoticon with what is actually a non-emoticon string of characters. For example, the time and airports are misrepresented as emoticons. The data quality with the hashtags is one that consists of several interlinked problems ranging from simple to complex. These problems include making the hashtags to a single case (preferrably lower), reducing the words in the hashtag to its roots (via lemmatization, for example), and figuring out a way to group different hashtags that have the same entity, but different word.\n",
    "\n",
    "Despite the aforementioned drawbacks, there are some positives to be gained from this analysis. There were some visible patterns in the counts and frequency distributions of emojis, emoticons, and hashtags. Some emojis and emoticons correlated well with positive or negative sentiments, with a little overlap between those sentiments with the neutral sentiment. Negative hashtags showed a clear pattern where many of the top frequent hashtags were either airline entities, or words commonly related to negative sentiment or emotion. These patterns show that emojis, emoticons, and hashtags may provide some value in classifying sentiment.\n",
    "\n",
    "There are some additional explorations and analysis one could do further with emojis, emoticons, and hashtags:\n",
    "- Clustering emojis and emoticons (e.g., see https://hal-amu.archives-ouvertes.fr/hal-01871045/document). A lot of emojis and emoticons share the same sentiment.\n",
    "- Clustering could also work for hashtags, but is would be harder to implement because the lexicon of English words is significantly more than the lexicon of emojis/emoticons. It is not enough to just calculate string similarity between the hashtags as well using Levenshtein distance , since some entities have wildly different words.\n",
    "- Exploring the median/average number of emojis/emoticons/hashtags. In particular, it appears that negative tweets seem to have more hashtags than positive or neutral tweets. We could potentially explore the number of hashtags, or even the length of a tweet to see if there is a statistically signficant correlation between them and sentiment.\n"
   ]
  },
  {
   "cell_type": "code",
   "execution_count": null,
   "metadata": {},
   "outputs": [],
   "source": []
  }
 ],
 "metadata": {
  "kernelspec": {
   "display_name": "Python 3",
   "language": "python",
   "name": "python3"
  },
  "language_info": {
   "codemirror_mode": {
    "name": "ipython",
    "version": 3
   },
   "file_extension": ".py",
   "mimetype": "text/x-python",
   "name": "python",
   "nbconvert_exporter": "python",
   "pygments_lexer": "ipython3",
   "version": "3.7.6"
  }
 },
 "nbformat": 4,
 "nbformat_minor": 4
}
